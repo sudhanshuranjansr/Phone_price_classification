{
 "cells": [
  {
   "cell_type": "code",
   "execution_count": 1,
   "metadata": {},
   "outputs": [],
   "source": [
    "import numpy as np\n",
    "import pandas as pd\n",
    "from pandas import Series,DataFrame\n",
    "import matplotlib.pyplot as plt\n",
    "%matplotlib inline\n",
    "import seaborn as sns\n",
    "sns.set_style(\"whitegrid\")\n",
    "import statistics\n",
    "import os \n",
    "import scipy.stats as st"
   ]
  },
  {
   "cell_type": "code",
   "execution_count": null,
   "metadata": {},
   "outputs": [],
   "source": [
    "#https://scikit-learn.org/stable/modules/naive_bayes.html"
   ]
  },
  {
   "cell_type": "code",
   "execution_count": 248,
   "metadata": {},
   "outputs": [
    {
     "data": {
      "text/html": [
       "<div>\n",
       "<style scoped>\n",
       "    .dataframe tbody tr th:only-of-type {\n",
       "        vertical-align: middle;\n",
       "    }\n",
       "\n",
       "    .dataframe tbody tr th {\n",
       "        vertical-align: top;\n",
       "    }\n",
       "\n",
       "    .dataframe thead th {\n",
       "        text-align: right;\n",
       "    }\n",
       "</style>\n",
       "<table border=\"1\" class=\"dataframe\">\n",
       "  <thead>\n",
       "    <tr style=\"text-align: right;\">\n",
       "      <th></th>\n",
       "      <th>battery_power</th>\n",
       "      <th>blue</th>\n",
       "      <th>clock_speed</th>\n",
       "      <th>dual_sim</th>\n",
       "      <th>fc</th>\n",
       "      <th>four_g</th>\n",
       "      <th>int_memory</th>\n",
       "      <th>m_dep</th>\n",
       "      <th>mobile_wt</th>\n",
       "      <th>n_cores</th>\n",
       "      <th>...</th>\n",
       "      <th>px_height</th>\n",
       "      <th>px_width</th>\n",
       "      <th>ram</th>\n",
       "      <th>sc_h</th>\n",
       "      <th>sc_w</th>\n",
       "      <th>talk_time</th>\n",
       "      <th>three_g</th>\n",
       "      <th>touch_screen</th>\n",
       "      <th>wifi</th>\n",
       "      <th>price_range</th>\n",
       "    </tr>\n",
       "  </thead>\n",
       "  <tbody>\n",
       "    <tr>\n",
       "      <th>0</th>\n",
       "      <td>842</td>\n",
       "      <td>0</td>\n",
       "      <td>2.2</td>\n",
       "      <td>0</td>\n",
       "      <td>1</td>\n",
       "      <td>0</td>\n",
       "      <td>7</td>\n",
       "      <td>0.6</td>\n",
       "      <td>188</td>\n",
       "      <td>2</td>\n",
       "      <td>...</td>\n",
       "      <td>20</td>\n",
       "      <td>756</td>\n",
       "      <td>2549</td>\n",
       "      <td>9</td>\n",
       "      <td>7</td>\n",
       "      <td>19</td>\n",
       "      <td>0</td>\n",
       "      <td>0</td>\n",
       "      <td>1</td>\n",
       "      <td>1</td>\n",
       "    </tr>\n",
       "    <tr>\n",
       "      <th>1</th>\n",
       "      <td>1021</td>\n",
       "      <td>1</td>\n",
       "      <td>0.5</td>\n",
       "      <td>1</td>\n",
       "      <td>0</td>\n",
       "      <td>1</td>\n",
       "      <td>53</td>\n",
       "      <td>0.7</td>\n",
       "      <td>136</td>\n",
       "      <td>3</td>\n",
       "      <td>...</td>\n",
       "      <td>905</td>\n",
       "      <td>1988</td>\n",
       "      <td>2631</td>\n",
       "      <td>17</td>\n",
       "      <td>3</td>\n",
       "      <td>7</td>\n",
       "      <td>1</td>\n",
       "      <td>1</td>\n",
       "      <td>0</td>\n",
       "      <td>2</td>\n",
       "    </tr>\n",
       "  </tbody>\n",
       "</table>\n",
       "<p>2 rows × 21 columns</p>\n",
       "</div>"
      ],
      "text/plain": [
       "   battery_power  blue  clock_speed  dual_sim  fc  four_g  int_memory  m_dep  \\\n",
       "0            842     0          2.2         0   1       0           7    0.6   \n",
       "1           1021     1          0.5         1   0       1          53    0.7   \n",
       "\n",
       "   mobile_wt  n_cores  ...  px_height  px_width   ram  sc_h  sc_w  talk_time  \\\n",
       "0        188        2  ...         20       756  2549     9     7         19   \n",
       "1        136        3  ...        905      1988  2631    17     3          7   \n",
       "\n",
       "   three_g  touch_screen  wifi  price_range  \n",
       "0        0             0     1            1  \n",
       "1        1             1     0            2  \n",
       "\n",
       "[2 rows x 21 columns]"
      ]
     },
     "execution_count": 248,
     "metadata": {},
     "output_type": "execute_result"
    }
   ],
   "source": [
    "df=pd.read_csv(\"train_mob.csv\")\n",
    "df.head(2)"
   ]
  },
  {
   "cell_type": "code",
   "execution_count": 249,
   "metadata": {},
   "outputs": [],
   "source": [
    "df=df[0:1000]"
   ]
  },
  {
   "cell_type": "code",
   "execution_count": 250,
   "metadata": {},
   "outputs": [],
   "source": [
    "y=df[\"price_range\"]\n",
    "df=df[[\"blue\",\"dual_sim\",\"fc\",\"four_g\",\"m_dep\",\"n_cores\",\"three_g\",\"touch_screen\",\"wifi\",\"ram\",\"battery_power\"]]\n",
    "x=df.values"
   ]
  },
  {
   "cell_type": "code",
   "execution_count": 251,
   "metadata": {},
   "outputs": [
    {
     "data": {
      "text/plain": [
       "array([0.82178218, 0.80597015, 0.785     , 0.80904523, 0.79292929])"
      ]
     },
     "execution_count": 251,
     "metadata": {},
     "output_type": "execute_result"
    }
   ],
   "source": [
    "from sklearn.model_selection import cross_val_score\n",
    "from sklearn.svm import SVC\n",
    "clf = SVC(kernel='linear', C=1)\n",
    "scores = cross_val_score(clf, x, y, cv=5)\n",
    "clf.fit(x,y)\n",
    "y_pre1=clf.predict(x)\n",
    "scores"
   ]
  },
  {
   "cell_type": "code",
   "execution_count": 252,
   "metadata": {},
   "outputs": [],
   "source": [
    "#from sklearn.model_selection import train_test_split\n",
    "from sklearn.naive_bayes import GaussianNB\n",
    "#X_train, X_test, y_train, y_test = train_test_split(X, y, test_size=0.5, random_state=0)\n",
    "gnb = GaussianNB()"
   ]
  },
  {
   "cell_type": "code",
   "execution_count": 253,
   "metadata": {},
   "outputs": [
    {
     "data": {
      "text/plain": [
       "array([0.76732673, 0.76616915, 0.78      , 0.77889447, 0.79292929])"
      ]
     },
     "execution_count": 253,
     "metadata": {},
     "output_type": "execute_result"
    }
   ],
   "source": [
    "scores = cross_val_score(gnb, x, y, cv=5)\n",
    "scores"
   ]
  },
  {
   "cell_type": "code",
   "execution_count": 254,
   "metadata": {},
   "outputs": [
    {
     "data": {
      "text/plain": [
       "GaussianNB(priors=None, var_smoothing=1e-09)"
      ]
     },
     "execution_count": 254,
     "metadata": {},
     "output_type": "execute_result"
    }
   ],
   "source": [
    "gnb.fit(x,y)"
   ]
  },
  {
   "cell_type": "code",
   "execution_count": 255,
   "metadata": {},
   "outputs": [],
   "source": [
    "y_pre3=gnb.predict(x)\n",
    "df_pre=DataFrame([y_pre1,y_pre3,y],index=[\"SVC\",\"NB\",\"original\"]).T"
   ]
  },
  {
   "cell_type": "code",
   "execution_count": 256,
   "metadata": {},
   "outputs": [],
   "source": [
    "#without inbuilt"
   ]
  },
  {
   "cell_type": "code",
   "execution_count": 257,
   "metadata": {},
   "outputs": [],
   "source": [
    "def  pi_pdf(x,yq,xp):\n",
    "    a=[]\n",
    "    for i in np.arange(len(x)):\n",
    "        if df[\"price_range\"][i]==yq:\n",
    "            a=np.append(a,x[i]) \n",
    "    m=np.mean(a)\n",
    "    v=np.var(a)\n",
    "    z=(xp-m)/np.sqrt(v)\n",
    "    pz=st.norm.cdf(z)\n",
    "    return(pz)"
   ]
  },
  {
   "cell_type": "code",
   "execution_count": 258,
   "metadata": {},
   "outputs": [],
   "source": [
    "#pi_pdf(df[\"battery_power\"],1,625)"
   ]
  },
  {
   "cell_type": "code",
   "execution_count": 259,
   "metadata": {},
   "outputs": [],
   "source": [
    "def pi_pmf(x,yq,xp):\n",
    "    s=0\n",
    "    for i in np.arange(len(x)):\n",
    "        if y[i]==yq and x[i]==xp:\n",
    "            s=s+1\n",
    "    return(s/len(x))"
   ]
  },
  {
   "cell_type": "code",
   "execution_count": 260,
   "metadata": {},
   "outputs": [],
   "source": [
    "pdf_y=[]\n",
    "yq=y\n",
    "for j in np.unique(yq):\n",
    "    d=0\n",
    "    for i in np.arange(len(y)):\n",
    "        if y[i]==yq[j]:\n",
    "            d=d+1\n",
    "    pdf_y=np.append(pdf_y,d/len(y))"
   ]
  },
  {
   "cell_type": "code",
   "execution_count": 261,
   "metadata": {},
   "outputs": [
    {
     "data": {
      "text/plain": [
       "array([0.234, 0.248, 0.248, 0.248])"
      ]
     },
     "execution_count": 261,
     "metadata": {},
     "output_type": "execute_result"
    }
   ],
   "source": [
    "pdf_y"
   ]
  },
  {
   "cell_type": "code",
   "execution_count": 262,
   "metadata": {},
   "outputs": [],
   "source": [
    "def post(e,yq):\n",
    "    cl=df.columns[:-1]\n",
    "    pp=1\n",
    "    for i in np.arange(len(cl)):\n",
    "        cl1=cl[i]\n",
    "        x=df[cl1]\n",
    "        xp=e[i]\n",
    "        pp1=pi_pmf(x,yq,xp)\n",
    "        pp=pp*pp1\n",
    "    return(pp)"
   ]
  },
  {
   "cell_type": "code",
   "execution_count": 263,
   "metadata": {},
   "outputs": [],
   "source": [
    "def post_pre(e):\n",
    "    dfmx=DataFrame(columns=[\"p\"])\n",
    "    yq1=np.unique(y)\n",
    "    for j in np.arange(len(yq1)):\n",
    "        m=post(e,yq1[j]) \n",
    "        m2=m*pdf_y[j]\n",
    "        #mx1=np.arange(mx1,m2)\n",
    "        dfmx.loc[j] = m2 \n",
    "    v=dfmx[\"p\"].values\n",
    "    return(np.argmax(v))"
   ]
  },
  {
   "cell_type": "code",
   "execution_count": 264,
   "metadata": {},
   "outputs": [
    {
     "data": {
      "text/plain": [
       "2"
      ]
     },
     "execution_count": 264,
     "metadata": {},
     "output_type": "execute_result"
    }
   ],
   "source": [
    "pred=(post_pre(df[1:2].values[0][:-1]))\n",
    "pred"
   ]
  },
  {
   "cell_type": "code",
   "execution_count": 265,
   "metadata": {},
   "outputs": [],
   "source": [
    "y_pre=[]\n",
    "for i in np.arange(len(y)):\n",
    "    pred=(post_pre(df[i:i+1].values[0]))\n",
    "    y_pre=np.append(y_pre,pred)"
   ]
  },
  {
   "cell_type": "code",
   "execution_count": 266,
   "metadata": {},
   "outputs": [
    {
     "data": {
      "text/plain": [
       "0.807"
      ]
     },
     "execution_count": 266,
     "metadata": {},
     "output_type": "execute_result"
    }
   ],
   "source": [
    "from sklearn.metrics import accuracy_score\n",
    "accuracy_score(y_pre,y_pre1)"
   ]
  },
  {
   "cell_type": "code",
   "execution_count": 275,
   "metadata": {},
   "outputs": [],
   "source": [
    "df_pre=DataFrame([y_pre,y_pre1,y],index=[\"bayes\",\"SVC\",\"observed\"]).T"
   ]
  },
  {
   "cell_type": "code",
   "execution_count": 305,
   "metadata": {},
   "outputs": [
    {
     "data": {
      "text/plain": [
       "Text(0.5, 1.0, 'Bayesian vs SVM classification')"
      ]
     },
     "execution_count": 305,
     "metadata": {},
     "output_type": "execute_result"
    },
    {
     "data": {
      "image/png": "[encoded data removed]",
      "text/plain": [
       "<Figure size 432x288 with 1 Axes>"
      ]
     },
     "metadata": {
      "needs_background": "light"
     },
     "output_type": "display_data"
    }
   ],
   "source": [
    "sns.kdeplot(df_pre[\"bayes\"],shade=True,alpha=.8,linewidth=4)\n",
    "sns.kdeplot(df_pre[\"SVC\"],shade=False,alpha=.9,linewidth=4)\n",
    "plt.title(\"Bayesian vs SVM classification\",fontsize=20)"
   ]
  },
  {
   "cell_type": "code",
   "execution_count": 291,
   "metadata": {},
   "outputs": [
    {
     "name": "stdout",
     "output_type": "stream",
     "text": [
      "Help on function kdeplot in module seaborn.distributions:\n",
      "\n",
      "kdeplot(data, data2=None, shade=False, vertical=False, kernel='gau', bw='scott', gridsize=100, cut=3, clip=None, legend=True, cumulative=False, shade_lowest=True, cbar=False, cbar_ax=None, cbar_kws=None, ax=None, **kwargs)\n",
      "    Fit and plot a univariate or bivariate kernel density estimate.\n",
      "    \n",
      "    Parameters\n",
      "    ----------\n",
      "    data : 1d array-like\n",
      "        Input data.\n",
      "    data2: 1d array-like, optional\n",
      "        Second input data. If present, a bivariate KDE will be estimated.\n",
      "    shade : bool, optional\n",
      "        If True, shade in the area under the KDE curve (or draw with filled\n",
      "        contours when data is bivariate).\n",
      "    vertical : bool, optional\n",
      "        If True, density is on x-axis.\n",
      "    kernel : {'gau' | 'cos' | 'biw' | 'epa' | 'tri' | 'triw' }, optional\n",
      "        Code for shape of kernel to fit with. Bivariate KDE can only use\n",
      "        gaussian kernel.\n",
      "    bw : {'scott' | 'silverman' | scalar | pair of scalars }, optional\n",
      "        Name of reference method to determine kernel size, scalar factor,\n",
      "        or scalar for each dimension of the bivariate plot. Note that the\n",
      "        underlying computational libraries have different interperetations\n",
      "        for this parameter: ``statsmodels`` uses it directly, but ``scipy``\n",
      "        treats it as a scaling factor for the standard deviation of the\n",
      "        data.\n",
      "    gridsize : int, optional\n",
      "        Number of discrete points in the evaluation grid.\n",
      "    cut : scalar, optional\n",
      "        Draw the estimate to cut * bw from the extreme data points.\n",
      "    clip : pair of scalars, or pair of pair of scalars, optional\n",
      "        Lower and upper bounds for datapoints used to fit KDE. Can provide\n",
      "        a pair of (low, high) bounds for bivariate plots.\n",
      "    legend : bool, optional\n",
      "        If True, add a legend or label the axes when possible.\n",
      "    cumulative : bool, optional\n",
      "        If True, draw the cumulative distribution estimated by the kde.\n",
      "    shade_lowest : bool, optional\n",
      "        If True, shade the lowest contour of a bivariate KDE plot. Not\n",
      "        relevant when drawing a univariate plot or when ``shade=False``.\n",
      "        Setting this to ``False`` can be useful when you want multiple\n",
      "        densities on the same Axes.\n",
      "    cbar : bool, optional\n",
      "        If True and drawing a bivariate KDE plot, add a colorbar.\n",
      "    cbar_ax : matplotlib axes, optional\n",
      "        Existing axes to draw the colorbar onto, otherwise space is taken\n",
      "        from the main axes.\n",
      "    cbar_kws : dict, optional\n",
      "        Keyword arguments for ``fig.colorbar()``.\n",
      "    ax : matplotlib axes, optional\n",
      "        Axes to plot on, otherwise uses current axes.\n",
      "    kwargs : key, value pairings\n",
      "        Other keyword arguments are passed to ``plt.plot()`` or\n",
      "        ``plt.contour{f}`` depending on whether a univariate or bivariate\n",
      "        plot is being drawn.\n",
      "    \n",
      "    Returns\n",
      "    -------\n",
      "    ax : matplotlib Axes\n",
      "        Axes with plot.\n",
      "    \n",
      "    See Also\n",
      "    --------\n",
      "    distplot: Flexibly plot a univariate distribution of observations.\n",
      "    jointplot: Plot a joint dataset with bivariate and marginal distributions.\n",
      "    \n",
      "    Examples\n",
      "    --------\n",
      "    \n",
      "    Plot a basic univariate density:\n",
      "    \n",
      "    .. plot::\n",
      "        :context: close-figs\n",
      "    \n",
      "        >>> import numpy as np; np.random.seed(10)\n",
      "        >>> import seaborn as sns; sns.set(color_codes=True)\n",
      "        >>> mean, cov = [0, 2], [(1, .5), (.5, 1)]\n",
      "        >>> x, y = np.random.multivariate_normal(mean, cov, size=50).T\n",
      "        >>> ax = sns.kdeplot(x)\n",
      "    \n",
      "    Shade under the density curve and use a different color:\n",
      "    \n",
      "    .. plot::\n",
      "        :context: close-figs\n",
      "    \n",
      "        >>> ax = sns.kdeplot(x, shade=True, color=\"r\")\n",
      "    \n",
      "    Plot a bivariate density:\n",
      "    \n",
      "    .. plot::\n",
      "        :context: close-figs\n",
      "    \n",
      "        >>> ax = sns.kdeplot(x, y)\n",
      "    \n",
      "    Use filled contours:\n",
      "    \n",
      "    .. plot::\n",
      "        :context: close-figs\n",
      "    \n",
      "        >>> ax = sns.kdeplot(x, y, shade=True)\n",
      "    \n",
      "    Use more contour levels and a different color palette:\n",
      "    \n",
      "    .. plot::\n",
      "        :context: close-figs\n",
      "    \n",
      "        >>> ax = sns.kdeplot(x, y, n_levels=30, cmap=\"Purples_d\")\n",
      "    \n",
      "    Use a narrower bandwith:\n",
      "    \n",
      "    .. plot::\n",
      "        :context: close-figs\n",
      "    \n",
      "        >>> ax = sns.kdeplot(x, bw=.15)\n",
      "    \n",
      "    Plot the density on the vertical axis:\n",
      "    \n",
      "    .. plot::\n",
      "        :context: close-figs\n",
      "    \n",
      "        >>> ax = sns.kdeplot(y, vertical=True)\n",
      "    \n",
      "    Limit the density curve within the range of the data:\n",
      "    \n",
      "    .. plot::\n",
      "        :context: close-figs\n",
      "    \n",
      "        >>> ax = sns.kdeplot(x, cut=0)\n",
      "    \n",
      "    Add a colorbar for the contours:\n",
      "    \n",
      "    .. plot::\n",
      "        :context: close-figs\n",
      "    \n",
      "        >>> ax = sns.kdeplot(x, y, cbar=True)\n",
      "    \n",
      "    Plot two shaded bivariate densities:\n",
      "    \n",
      "    .. plot::\n",
      "        :context: close-figs\n",
      "    \n",
      "        >>> iris = sns.load_dataset(\"iris\")\n",
      "        >>> setosa = iris.loc[iris.species == \"setosa\"]\n",
      "        >>> virginica = iris.loc[iris.species == \"virginica\"]\n",
      "        >>> ax = sns.kdeplot(setosa.sepal_width, setosa.sepal_length,\n",
      "        ...                  cmap=\"Reds\", shade=True, shade_lowest=False)\n",
      "        >>> ax = sns.kdeplot(virginica.sepal_width, virginica.sepal_length,\n",
      "        ...                  cmap=\"Blues\", shade=True, shade_lowest=False)\n",
      "\n"
     ]
    }
   ],
   "source": [
    "help(sns.kdeplot)"
   ]
  },
  {
   "cell_type": "code",
   "execution_count": null,
   "metadata": {},
   "outputs": [],
   "source": []
  }
 ],
 "metadata": {
  "kernelspec": {
   "display_name": "Python 3",
   "language": "python",
   "name": "python3"
  },
  "language_info": {
   "codemirror_mode": {
    "name": "ipython",
    "version": 3
   },
   "file_extension": ".py",
   "mimetype": "text/x-python",
   "name": "python",
   "nbconvert_exporter": "python",
   "pygments_lexer": "ipython3",
   "version": "3.7.1"
  }
 },
 "nbformat": 4,
 "nbformat_minor": 2
}
